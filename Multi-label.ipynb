{
 "cells": [
  {
   "cell_type": "markdown",
   "metadata": {},
   "source": [
    "# Importation des bibliothèques"
   ]
  },
  {
   "cell_type": "code",
   "execution_count": 32,
   "metadata": {},
   "outputs": [],
   "source": [
    "import numpy as np\n",
    "import pandas as pd\n",
    "\n",
    "\n",
    "import re\n",
    "import spacy\n",
    "import fr_core_news_sm\n",
    "from nltk.stem import PorterStemmer \n",
    "from nltk.tokenize import word_tokenize \n",
    "from nltk.corpus import stopwords\n",
    "\n",
    "from sklearn.datasets import load_files\n",
    "import pickle\n",
    "import sklearn.externals as extjoblib\n",
    "import joblib\n",
    "\n",
    "\n",
    "from sklearn.preprocessing import FunctionTransformer\n",
    "\n",
    "from sklearn.pipeline import make_pipeline\n",
    "from sklearn.linear_model import LogisticRegression\n",
    "from sklearn.multioutput import MultiOutputClassifier\n",
    "from sklearn.feature_extraction.text import CountVectorizer, TfidfTransformer\n",
    "from sklearn.metrics import accuracy_score\n",
    "from sklearn.model_selection import train_test_split, GridSearchCV\n",
    "\n",
    "from sklearn.neural_network import MLPClassifier\n",
    "from sklearn.neighbors import KNeighborsClassifier\n",
    "from sklearn.tree import DecisionTreeClassifier\n",
    "\n",
    "\n",
    "import sklearn.metrics\n",
    "\n",
    "import matplotlib.pyplot as plt\n",
    "import seaborn as sns"
   ]
  },
  {
   "cell_type": "code",
   "execution_count": null,
   "metadata": {},
   "outputs": [],
   "source": []
  },
  {
   "cell_type": "markdown",
   "metadata": {},
   "source": [
    "# Chargement des données"
   ]
  },
  {
   "cell_type": "code",
   "execution_count": 2,
   "metadata": {},
   "outputs": [],
   "source": [
    "#DONNEE BRUTE\n",
    "\n",
    "df = pd.read_excel(\"C:/Users/ET03349/Desktop/Sémantique/Lot_voix_ca/labels-voix-ca-lot-7.xlsx\")\n",
    "df = df[['text', 'category', 'is_project']]"
   ]
  },
  {
   "cell_type": "code",
   "execution_count": 3,
   "metadata": {},
   "outputs": [
    {
     "data": {
      "text/html": [
       "<div>\n",
       "<style scoped>\n",
       "    .dataframe tbody tr th:only-of-type {\n",
       "        vertical-align: middle;\n",
       "    }\n",
       "\n",
       "    .dataframe tbody tr th {\n",
       "        vertical-align: top;\n",
       "    }\n",
       "\n",
       "    .dataframe thead th {\n",
       "        text-align: right;\n",
       "    }\n",
       "</style>\n",
       "<table border=\"1\" class=\"dataframe\">\n",
       "  <thead>\n",
       "    <tr style=\"text-align: right;\">\n",
       "      <th></th>\n",
       "      <th>text</th>\n",
       "      <th>category</th>\n",
       "      <th>is_project</th>\n",
       "    </tr>\n",
       "  </thead>\n",
       "  <tbody>\n",
       "    <tr>\n",
       "      <th>0</th>\n",
       "      <td>simul pret auto pour un montant de 5 000 euros...</td>\n",
       "      <td>Montant</td>\n",
       "      <td>False</td>\n",
       "    </tr>\n",
       "    <tr>\n",
       "      <th>1</th>\n",
       "      <td>simul pret auto pour un montant de 5 000 euros...</td>\n",
       "      <td>Credit_vehicule</td>\n",
       "      <td>True</td>\n",
       "    </tr>\n",
       "    <tr>\n",
       "      <th>2</th>\n",
       "      <td>azo le 22 novembre message laisser laisser</td>\n",
       "      <td>Date</td>\n",
       "      <td>False</td>\n",
       "    </tr>\n",
       "    <tr>\n",
       "      <th>3</th>\n",
       "      <td>j'ai vu monsieur ce jour premier contact avec...</td>\n",
       "      <td>Date</td>\n",
       "      <td>False</td>\n",
       "    </tr>\n",
       "    <tr>\n",
       "      <th>4</th>\n",
       "      <td>j'ai vu monsieur ce jour premier contact avec...</td>\n",
       "      <td>Bilan_suivi_relationnel</td>\n",
       "      <td>False</td>\n",
       "    </tr>\n",
       "    <tr>\n",
       "      <th>...</th>\n",
       "      <td>...</td>\n",
       "      <td>...</td>\n",
       "      <td>...</td>\n",
       "    </tr>\n",
       "    <tr>\n",
       "      <th>8811</th>\n",
       "      <td>j'ai vu ce jour   prévoyance obsèques de 3000...</td>\n",
       "      <td>Date</td>\n",
       "      <td>False</td>\n",
       "    </tr>\n",
       "    <tr>\n",
       "      <th>8812</th>\n",
       "      <td>j'ai vu ce jour   prévoyance obsèques de 3000...</td>\n",
       "      <td>Assurance_de_Personnes</td>\n",
       "      <td>True</td>\n",
       "    </tr>\n",
       "    <tr>\n",
       "      <th>8813</th>\n",
       "      <td>j'ai vu ce jour   prévoyance obsèques de 3000...</td>\n",
       "      <td>Date</td>\n",
       "      <td>False</td>\n",
       "    </tr>\n",
       "    <tr>\n",
       "      <th>8814</th>\n",
       "      <td>j'ai vu ce jour   prévoyance obsèques de 3000...</td>\n",
       "      <td>Point_d_attention_risques</td>\n",
       "      <td>False</td>\n",
       "    </tr>\n",
       "    <tr>\n",
       "      <th>8815</th>\n",
       "      <td>j'ai vu ce jour   prévoyance obsèques de 3000...</td>\n",
       "      <td>Point_d_attention_risques</td>\n",
       "      <td>False</td>\n",
       "    </tr>\n",
       "  </tbody>\n",
       "</table>\n",
       "<p>8816 rows × 3 columns</p>\n",
       "</div>"
      ],
      "text/plain": [
       "                                                   text  \\\n",
       "0     simul pret auto pour un montant de 5 000 euros...   \n",
       "1     simul pret auto pour un montant de 5 000 euros...   \n",
       "2           azo le 22 novembre message laisser laisser    \n",
       "3      j'ai vu monsieur ce jour premier contact avec...   \n",
       "4      j'ai vu monsieur ce jour premier contact avec...   \n",
       "...                                                 ...   \n",
       "8811   j'ai vu ce jour   prévoyance obsèques de 3000...   \n",
       "8812   j'ai vu ce jour   prévoyance obsèques de 3000...   \n",
       "8813   j'ai vu ce jour   prévoyance obsèques de 3000...   \n",
       "8814   j'ai vu ce jour   prévoyance obsèques de 3000...   \n",
       "8815   j'ai vu ce jour   prévoyance obsèques de 3000...   \n",
       "\n",
       "                       category  is_project  \n",
       "0                       Montant       False  \n",
       "1               Credit_vehicule        True  \n",
       "2                          Date       False  \n",
       "3                          Date       False  \n",
       "4       Bilan_suivi_relationnel       False  \n",
       "...                         ...         ...  \n",
       "8811                       Date       False  \n",
       "8812     Assurance_de_Personnes        True  \n",
       "8813                       Date       False  \n",
       "8814  Point_d_attention_risques       False  \n",
       "8815  Point_d_attention_risques       False  \n",
       "\n",
       "[8816 rows x 3 columns]"
      ]
     },
     "execution_count": 3,
     "metadata": {},
     "output_type": "execute_result"
    }
   ],
   "source": [
    "df"
   ]
  },
  {
   "cell_type": "code",
   "execution_count": 4,
   "metadata": {},
   "outputs": [
    {
     "data": {
      "text/plain": [
       "<bound method NDFrame.describe of 0                         Montant\n",
       "1                 Credit_vehicule\n",
       "2                            Date\n",
       "3                            Date\n",
       "4         Bilan_suivi_relationnel\n",
       "                  ...            \n",
       "8811                         Date\n",
       "8812       Assurance_de_Personnes\n",
       "8813                         Date\n",
       "8814    Point_d_attention_risques\n",
       "8815    Point_d_attention_risques\n",
       "Name: category, Length: 8816, dtype: object>"
      ]
     },
     "execution_count": 4,
     "metadata": {},
     "output_type": "execute_result"
    }
   ],
   "source": [
    "df.category.describe"
   ]
  },
  {
   "cell_type": "markdown",
   "metadata": {},
   "source": [
    "# Visualisation de donnée"
   ]
  },
  {
   "cell_type": "code",
   "execution_count": 5,
   "metadata": {},
   "outputs": [
    {
     "data": {
      "image/png": "[encoded data removed]",
      "text/plain": [
       "<Figure size 576x432 with 1 Axes>"
      ]
     },
     "metadata": {
      "needs_background": "light"
     },
     "output_type": "display_data"
    }
   ],
   "source": [
    "import matplotlib.pyplot as plt\n",
    "\n",
    "fig = plt.figure(figsize=(8,6))\n",
    "plt.title(\"le nombre de compte_rendu par thématique\")\n",
    "df.groupby('category').text.count().plot.bar(ylim=0)\n",
    "plt.show()"
   ]
  },
  {
   "cell_type": "code",
   "execution_count": 6,
   "metadata": {},
   "outputs": [
    {
     "data": {
      "image/png": "[encoded data removed]",
      "text/plain": [
       "<Figure size 576x360 with 1 Axes>"
      ]
     },
     "metadata": {},
     "output_type": "display_data"
    }
   ],
   "source": [
    "sns.set_style('whitegrid')\n",
    "plt.figure(figsize=(8, 5))\n",
    "ax = sns.countplot(x='category', data=df)\n",
    "ax.set_xticklabels(ax.get_xticklabels(), rotation=40, ha=\"right\")\n",
    "plt.tight_layout()"
   ]
  },
  {
   "cell_type": "code",
   "execution_count": 7,
   "metadata": {},
   "outputs": [
    {
     "name": "stdout",
     "output_type": "stream",
     "text": [
      "col_0                                   count\n",
      "category                                     \n",
      "Assurance_de_Biens                        364\n",
      "Assurance_de_Personnes                    387\n",
      "BAQ_Services_Bancaires                    328\n",
      "Bilan_suivi_relationnel                   373\n",
      "Credit_agri_pro                           104\n",
      "Credit_conso                              127\n",
      "Credit_habitat                            427\n",
      "Credit_travaux                             51\n",
      "Credit_vehicule                           127\n",
      "Date                                     1887\n",
      "Entree_en_relation_Conquetes              631\n",
      "Montant                                  1462\n",
      "Non_specifie_Credit_Assurance_Epargne_    337\n",
      "Point_d_attention_risques                 481\n",
      "Projet_exceptionnel_                      183\n",
      "Reclamation_Insatisfaction_client         160\n",
      "_pargne_disponible                        316\n",
      "_pargne_terme                             921\n",
      "_venements_de_vie                         100\n"
     ]
    }
   ],
   "source": [
    "#Nombre de comptes rendus en fonction des thématiques\n",
    "print(pd.crosstab(index=df[\"category\"],columns=\"count\"))"
   ]
  },
  {
   "cell_type": "code",
   "execution_count": null,
   "metadata": {},
   "outputs": [],
   "source": []
  },
  {
   "cell_type": "markdown",
   "metadata": {},
   "source": [
    "# Encoding dataframe"
   ]
  },
  {
   "cell_type": "code",
   "execution_count": 9,
   "metadata": {},
   "outputs": [],
   "source": [
    "       df_s = df.groupby(['text', 'category'])['is_project'].first().unstack(-1)\n",
    "       df_s = (~df_s.isna()).astype(int)\n",
    "\n",
    "       # Les noms des colonnes cibles\n",
    "       category_cols = [\n",
    "              'Credit_vehicule', 'Bilan_suivi_relationnel',\n",
    "             '_pargne_terme', \n",
    "             #'Credit_travaux', \n",
    "             'Entree_en_relation_Conquetes',\n",
    "             'Point_d_attention_risques', 'Reclamation_Insatisfaction_client',\n",
    "             'Credit_conso', \n",
    "             #'_venements_de_vie','Credit_agri_pro',\n",
    "              '_pargne_disponible',\n",
    "              'Non_specifie_Credit_Assurance_Epargne_', 'Assurance_de_Biens',\n",
    "             'Assurance_de_Personnes', 'BAQ_Services_Bancaires',\n",
    "              'Credit_habitat',  'Projet_exceptionnel_']\n",
    "\n",
    "df_s = df_s.reset_index()"
   ]
  },
  {
   "cell_type": "code",
   "execution_count": 10,
   "metadata": {},
   "outputs": [
    {
     "name": "stdout",
     "output_type": "stream",
     "text": [
      "Number of rows in data = 1443\n",
      "Number of columns in data = 20\n",
      "\n",
      "\n",
      "**Sample data:**\n"
     ]
    },
    {
     "data": {
      "text/html": [
       "<div>\n",
       "<style scoped>\n",
       "    .dataframe tbody tr th:only-of-type {\n",
       "        vertical-align: middle;\n",
       "    }\n",
       "\n",
       "    .dataframe tbody tr th {\n",
       "        vertical-align: top;\n",
       "    }\n",
       "\n",
       "    .dataframe thead th {\n",
       "        text-align: right;\n",
       "    }\n",
       "</style>\n",
       "<table border=\"1\" class=\"dataframe\">\n",
       "  <thead>\n",
       "    <tr style=\"text-align: right;\">\n",
       "      <th>category</th>\n",
       "      <th>text</th>\n",
       "      <th>Assurance_de_Biens</th>\n",
       "      <th>Assurance_de_Personnes</th>\n",
       "      <th>BAQ_Services_Bancaires</th>\n",
       "      <th>Bilan_suivi_relationnel</th>\n",
       "      <th>Credit_agri_pro</th>\n",
       "      <th>Credit_conso</th>\n",
       "      <th>Credit_habitat</th>\n",
       "      <th>Credit_travaux</th>\n",
       "      <th>Credit_vehicule</th>\n",
       "      <th>Date</th>\n",
       "      <th>Entree_en_relation_Conquetes</th>\n",
       "      <th>Montant</th>\n",
       "      <th>Non_specifie_Credit_Assurance_Epargne_</th>\n",
       "      <th>Point_d_attention_risques</th>\n",
       "      <th>Projet_exceptionnel_</th>\n",
       "      <th>Reclamation_Insatisfaction_client</th>\n",
       "      <th>_pargne_disponible</th>\n",
       "      <th>_pargne_terme</th>\n",
       "      <th>_venements_de_vie</th>\n",
       "    </tr>\n",
       "  </thead>\n",
       "  <tbody>\n",
       "    <tr>\n",
       "      <th>0</th>\n",
       "      <td>\\t\\n15/05/2019\\nENVOI SOUSCRIPTION PSV MAIL\\nM...</td>\n",
       "      <td>0</td>\n",
       "      <td>0</td>\n",
       "      <td>0</td>\n",
       "      <td>1</td>\n",
       "      <td>0</td>\n",
       "      <td>0</td>\n",
       "      <td>0</td>\n",
       "      <td>0</td>\n",
       "      <td>0</td>\n",
       "      <td>1</td>\n",
       "      <td>1</td>\n",
       "      <td>0</td>\n",
       "      <td>0</td>\n",
       "      <td>0</td>\n",
       "      <td>0</td>\n",
       "      <td>0</td>\n",
       "      <td>0</td>\n",
       "      <td>1</td>\n",
       "      <td>0</td>\n",
       "    </tr>\n",
       "    <tr>\n",
       "      <th>1</th>\n",
       "      <td>\\n appel au client aujourd'hui suite à un mail...</td>\n",
       "      <td>0</td>\n",
       "      <td>0</td>\n",
       "      <td>1</td>\n",
       "      <td>0</td>\n",
       "      <td>0</td>\n",
       "      <td>0</td>\n",
       "      <td>0</td>\n",
       "      <td>0</td>\n",
       "      <td>0</td>\n",
       "      <td>1</td>\n",
       "      <td>0</td>\n",
       "      <td>1</td>\n",
       "      <td>0</td>\n",
       "      <td>0</td>\n",
       "      <td>0</td>\n",
       "      <td>0</td>\n",
       "      <td>0</td>\n",
       "      <td>0</td>\n",
       "      <td>0</td>\n",
       "    </tr>\n",
       "    <tr>\n",
       "      <th>2</th>\n",
       "      <td>\\n attente des documents pour deux ouverture d...</td>\n",
       "      <td>0</td>\n",
       "      <td>0</td>\n",
       "      <td>0</td>\n",
       "      <td>0</td>\n",
       "      <td>0</td>\n",
       "      <td>0</td>\n",
       "      <td>0</td>\n",
       "      <td>0</td>\n",
       "      <td>0</td>\n",
       "      <td>0</td>\n",
       "      <td>1</td>\n",
       "      <td>0</td>\n",
       "      <td>0</td>\n",
       "      <td>0</td>\n",
       "      <td>0</td>\n",
       "      <td>0</td>\n",
       "      <td>0</td>\n",
       "      <td>0</td>\n",
       "      <td>0</td>\n",
       "    </tr>\n",
       "    <tr>\n",
       "      <th>3</th>\n",
       "      <td>\\n entretien avec Madame pour un projet d'une ...</td>\n",
       "      <td>0</td>\n",
       "      <td>0</td>\n",
       "      <td>0</td>\n",
       "      <td>0</td>\n",
       "      <td>0</td>\n",
       "      <td>0</td>\n",
       "      <td>1</td>\n",
       "      <td>0</td>\n",
       "      <td>0</td>\n",
       "      <td>0</td>\n",
       "      <td>0</td>\n",
       "      <td>1</td>\n",
       "      <td>0</td>\n",
       "      <td>1</td>\n",
       "      <td>0</td>\n",
       "      <td>0</td>\n",
       "      <td>0</td>\n",
       "      <td>1</td>\n",
       "      <td>0</td>\n",
       "    </tr>\n",
       "    <tr>\n",
       "      <th>4</th>\n",
       "      <td>\\n le client a placé sur son assurance 20 000 ...</td>\n",
       "      <td>0</td>\n",
       "      <td>0</td>\n",
       "      <td>0</td>\n",
       "      <td>0</td>\n",
       "      <td>0</td>\n",
       "      <td>0</td>\n",
       "      <td>0</td>\n",
       "      <td>0</td>\n",
       "      <td>0</td>\n",
       "      <td>0</td>\n",
       "      <td>0</td>\n",
       "      <td>1</td>\n",
       "      <td>0</td>\n",
       "      <td>0</td>\n",
       "      <td>0</td>\n",
       "      <td>0</td>\n",
       "      <td>0</td>\n",
       "      <td>1</td>\n",
       "      <td>0</td>\n",
       "    </tr>\n",
       "  </tbody>\n",
       "</table>\n",
       "</div>"
      ],
      "text/plain": [
       "category                                               text  \\\n",
       "0         \\t\\n15/05/2019\\nENVOI SOUSCRIPTION PSV MAIL\\nM...   \n",
       "1         \\n appel au client aujourd'hui suite à un mail...   \n",
       "2         \\n attente des documents pour deux ouverture d...   \n",
       "3         \\n entretien avec Madame pour un projet d'une ...   \n",
       "4         \\n le client a placé sur son assurance 20 000 ...   \n",
       "\n",
       "category  Assurance_de_Biens  Assurance_de_Personnes  BAQ_Services_Bancaires  \\\n",
       "0                          0                       0                       0   \n",
       "1                          0                       0                       1   \n",
       "2                          0                       0                       0   \n",
       "3                          0                       0                       0   \n",
       "4                          0                       0                       0   \n",
       "\n",
       "category  Bilan_suivi_relationnel  Credit_agri_pro  Credit_conso  \\\n",
       "0                               1                0             0   \n",
       "1                               0                0             0   \n",
       "2                               0                0             0   \n",
       "3                               0                0             0   \n",
       "4                               0                0             0   \n",
       "\n",
       "category  Credit_habitat  Credit_travaux  Credit_vehicule  Date  \\\n",
       "0                      0               0                0     1   \n",
       "1                      0               0                0     1   \n",
       "2                      0               0                0     0   \n",
       "3                      1               0                0     0   \n",
       "4                      0               0                0     0   \n",
       "\n",
       "category  Entree_en_relation_Conquetes  Montant  \\\n",
       "0                                    1        0   \n",
       "1                                    0        1   \n",
       "2                                    1        0   \n",
       "3                                    0        1   \n",
       "4                                    0        1   \n",
       "\n",
       "category  Non_specifie_Credit_Assurance_Epargne_  Point_d_attention_risques  \\\n",
       "0                                              0                          0   \n",
       "1                                              0                          0   \n",
       "2                                              0                          0   \n",
       "3                                              0                          1   \n",
       "4                                              0                          0   \n",
       "\n",
       "category  Projet_exceptionnel_  Reclamation_Insatisfaction_client  \\\n",
       "0                            0                                  0   \n",
       "1                            0                                  0   \n",
       "2                            0                                  0   \n",
       "3                            0                                  0   \n",
       "4                            0                                  0   \n",
       "\n",
       "category  _pargne_disponible  _pargne_terme  _venements_de_vie  \n",
       "0                          0              1                  0  \n",
       "1                          0              0                  0  \n",
       "2                          0              0                  0  \n",
       "3                          0              1                  0  \n",
       "4                          0              1                  0  "
      ]
     },
     "execution_count": 10,
     "metadata": {},
     "output_type": "execute_result"
    }
   ],
   "source": [
    "print(\"Number of rows in data =\",df_s.shape[0])\n",
    "print(\"Number of columns in data =\",df_s.shape[1])\n",
    "print(\"\\n\")\n",
    "print(\"**Sample data:**\")\n",
    "df_s.head()"
   ]
  },
  {
   "cell_type": "markdown",
   "metadata": {},
   "source": [
    "# Suppresion collonne peut/trop représenter"
   ]
  },
  {
   "cell_type": "code",
   "execution_count": 11,
   "metadata": {},
   "outputs": [
    {
     "data": {
      "text/html": [
       "<div>\n",
       "<style scoped>\n",
       "    .dataframe tbody tr th:only-of-type {\n",
       "        vertical-align: middle;\n",
       "    }\n",
       "\n",
       "    .dataframe tbody tr th {\n",
       "        vertical-align: top;\n",
       "    }\n",
       "\n",
       "    .dataframe thead th {\n",
       "        text-align: right;\n",
       "    }\n",
       "</style>\n",
       "<table border=\"1\" class=\"dataframe\">\n",
       "  <thead>\n",
       "    <tr style=\"text-align: right;\">\n",
       "      <th>category</th>\n",
       "      <th>text</th>\n",
       "      <th>Assurance_de_Biens</th>\n",
       "      <th>Assurance_de_Personnes</th>\n",
       "      <th>BAQ_Services_Bancaires</th>\n",
       "      <th>Bilan_suivi_relationnel</th>\n",
       "      <th>Credit_conso</th>\n",
       "      <th>Credit_habitat</th>\n",
       "      <th>Credit_vehicule</th>\n",
       "      <th>Entree_en_relation_Conquetes</th>\n",
       "      <th>Non_specifie_Credit_Assurance_Epargne_</th>\n",
       "      <th>Point_d_attention_risques</th>\n",
       "      <th>Projet_exceptionnel_</th>\n",
       "      <th>Reclamation_Insatisfaction_client</th>\n",
       "      <th>_pargne_disponible</th>\n",
       "      <th>_pargne_terme</th>\n",
       "    </tr>\n",
       "  </thead>\n",
       "  <tbody>\n",
       "    <tr>\n",
       "      <th>0</th>\n",
       "      <td>\\t\\n15/05/2019\\nENVOI SOUSCRIPTION PSV MAIL\\nM...</td>\n",
       "      <td>0</td>\n",
       "      <td>0</td>\n",
       "      <td>0</td>\n",
       "      <td>1</td>\n",
       "      <td>0</td>\n",
       "      <td>0</td>\n",
       "      <td>0</td>\n",
       "      <td>1</td>\n",
       "      <td>0</td>\n",
       "      <td>0</td>\n",
       "      <td>0</td>\n",
       "      <td>0</td>\n",
       "      <td>0</td>\n",
       "      <td>1</td>\n",
       "    </tr>\n",
       "    <tr>\n",
       "      <th>1</th>\n",
       "      <td>\\n appel au client aujourd'hui suite à un mail...</td>\n",
       "      <td>0</td>\n",
       "      <td>0</td>\n",
       "      <td>1</td>\n",
       "      <td>0</td>\n",
       "      <td>0</td>\n",
       "      <td>0</td>\n",
       "      <td>0</td>\n",
       "      <td>0</td>\n",
       "      <td>0</td>\n",
       "      <td>0</td>\n",
       "      <td>0</td>\n",
       "      <td>0</td>\n",
       "      <td>0</td>\n",
       "      <td>0</td>\n",
       "    </tr>\n",
       "    <tr>\n",
       "      <th>2</th>\n",
       "      <td>\\n attente des documents pour deux ouverture d...</td>\n",
       "      <td>0</td>\n",
       "      <td>0</td>\n",
       "      <td>0</td>\n",
       "      <td>0</td>\n",
       "      <td>0</td>\n",
       "      <td>0</td>\n",
       "      <td>0</td>\n",
       "      <td>1</td>\n",
       "      <td>0</td>\n",
       "      <td>0</td>\n",
       "      <td>0</td>\n",
       "      <td>0</td>\n",
       "      <td>0</td>\n",
       "      <td>0</td>\n",
       "    </tr>\n",
       "    <tr>\n",
       "      <th>3</th>\n",
       "      <td>\\n entretien avec Madame pour un projet d'une ...</td>\n",
       "      <td>0</td>\n",
       "      <td>0</td>\n",
       "      <td>0</td>\n",
       "      <td>0</td>\n",
       "      <td>0</td>\n",
       "      <td>1</td>\n",
       "      <td>0</td>\n",
       "      <td>0</td>\n",
       "      <td>0</td>\n",
       "      <td>1</td>\n",
       "      <td>0</td>\n",
       "      <td>0</td>\n",
       "      <td>0</td>\n",
       "      <td>1</td>\n",
       "    </tr>\n",
       "    <tr>\n",
       "      <th>4</th>\n",
       "      <td>\\n le client a placé sur son assurance 20 000 ...</td>\n",
       "      <td>0</td>\n",
       "      <td>0</td>\n",
       "      <td>0</td>\n",
       "      <td>0</td>\n",
       "      <td>0</td>\n",
       "      <td>0</td>\n",
       "      <td>0</td>\n",
       "      <td>0</td>\n",
       "      <td>0</td>\n",
       "      <td>0</td>\n",
       "      <td>0</td>\n",
       "      <td>0</td>\n",
       "      <td>0</td>\n",
       "      <td>1</td>\n",
       "    </tr>\n",
       "  </tbody>\n",
       "</table>\n",
       "</div>"
      ],
      "text/plain": [
       "category                                               text  \\\n",
       "0         \\t\\n15/05/2019\\nENVOI SOUSCRIPTION PSV MAIL\\nM...   \n",
       "1         \\n appel au client aujourd'hui suite à un mail...   \n",
       "2         \\n attente des documents pour deux ouverture d...   \n",
       "3         \\n entretien avec Madame pour un projet d'une ...   \n",
       "4         \\n le client a placé sur son assurance 20 000 ...   \n",
       "\n",
       "category  Assurance_de_Biens  Assurance_de_Personnes  BAQ_Services_Bancaires  \\\n",
       "0                          0                       0                       0   \n",
       "1                          0                       0                       1   \n",
       "2                          0                       0                       0   \n",
       "3                          0                       0                       0   \n",
       "4                          0                       0                       0   \n",
       "\n",
       "category  Bilan_suivi_relationnel  Credit_conso  Credit_habitat  \\\n",
       "0                               1             0               0   \n",
       "1                               0             0               0   \n",
       "2                               0             0               0   \n",
       "3                               0             0               1   \n",
       "4                               0             0               0   \n",
       "\n",
       "category  Credit_vehicule  Entree_en_relation_Conquetes  \\\n",
       "0                       0                             1   \n",
       "1                       0                             0   \n",
       "2                       0                             1   \n",
       "3                       0                             0   \n",
       "4                       0                             0   \n",
       "\n",
       "category  Non_specifie_Credit_Assurance_Epargne_  Point_d_attention_risques  \\\n",
       "0                                              0                          0   \n",
       "1                                              0                          0   \n",
       "2                                              0                          0   \n",
       "3                                              0                          1   \n",
       "4                                              0                          0   \n",
       "\n",
       "category  Projet_exceptionnel_  Reclamation_Insatisfaction_client  \\\n",
       "0                            0                                  0   \n",
       "1                            0                                  0   \n",
       "2                            0                                  0   \n",
       "3                            0                                  0   \n",
       "4                            0                                  0   \n",
       "\n",
       "category  _pargne_disponible  _pargne_terme  \n",
       "0                          0              1  \n",
       "1                          0              0  \n",
       "2                          0              0  \n",
       "3                          0              1  \n",
       "4                          0              1  "
      ]
     },
     "execution_count": 11,
     "metadata": {},
     "output_type": "execute_result"
    }
   ],
   "source": [
    "df_s = df_s.drop(['Montant','Date', 'Credit_agri_pro', 'Credit_travaux', '_venements_de_vie'], axis = 1)\n",
    "df_s.head()"
   ]
  },
  {
   "cell_type": "markdown",
   "metadata": {},
   "source": [
    "# Prepross texte"
   ]
  },
  {
   "cell_type": "code",
   "execution_count": 12,
   "metadata": {},
   "outputs": [],
   "source": [
    "df_s.text = df_s.text.astype(str)"
   ]
  },
  {
   "cell_type": "code",
   "execution_count": 13,
   "metadata": {},
   "outputs": [
    {
     "data": {
      "text/plain": [
       "0       \\t\\n15/05/2019\\nENVOI SOUSCRIPTION PSV MAIL\\nM...\n",
       "1       \\n appel au client aujourd'hui suite à un mail...\n",
       "2       \\n attente des documents pour deux ouverture d...\n",
       "3       \\n entretien avec Madame pour un projet d'une ...\n",
       "4       \\n le client a placé sur son assurance 20 000 ...\n",
       "                              ...                        \n",
       "1438      vu pour projet locatif. Devis futur  PPNO fait.\n",
       "1439    vu sonia 17/07/2019 à la dde du client questio...\n",
       "1440                      à rapp car fonds sur le compte \n",
       "1441    échange rapide par téléphone ce jour avec Mons...\n",
       "1442    échange téléphonique ce jour avec monsieur.   ...\n",
       "Name: text, Length: 1443, dtype: object"
      ]
     },
     "execution_count": 13,
     "metadata": {},
     "output_type": "execute_result"
    }
   ],
   "source": [
    "transformer = FunctionTransformer()\n",
    "transformer.transform(df_s['text'])"
   ]
  },
  {
   "cell_type": "code",
   "execution_count": 14,
   "metadata": {},
   "outputs": [
    {
     "data": {
      "text/html": [
       "<div>\n",
       "<style scoped>\n",
       "    .dataframe tbody tr th:only-of-type {\n",
       "        vertical-align: middle;\n",
       "    }\n",
       "\n",
       "    .dataframe tbody tr th {\n",
       "        vertical-align: top;\n",
       "    }\n",
       "\n",
       "    .dataframe thead th {\n",
       "        text-align: right;\n",
       "    }\n",
       "</style>\n",
       "<table border=\"1\" class=\"dataframe\">\n",
       "  <thead>\n",
       "    <tr style=\"text-align: right;\">\n",
       "      <th>category</th>\n",
       "      <th>text</th>\n",
       "      <th>Assurance_de_Biens</th>\n",
       "      <th>Assurance_de_Personnes</th>\n",
       "      <th>BAQ_Services_Bancaires</th>\n",
       "      <th>Bilan_suivi_relationnel</th>\n",
       "      <th>Credit_conso</th>\n",
       "      <th>Credit_habitat</th>\n",
       "      <th>Credit_vehicule</th>\n",
       "      <th>Entree_en_relation_Conquetes</th>\n",
       "      <th>Non_specifie_Credit_Assurance_Epargne_</th>\n",
       "      <th>Point_d_attention_risques</th>\n",
       "      <th>Projet_exceptionnel_</th>\n",
       "      <th>Reclamation_Insatisfaction_client</th>\n",
       "      <th>_pargne_disponible</th>\n",
       "      <th>_pargne_terme</th>\n",
       "    </tr>\n",
       "  </thead>\n",
       "  <tbody>\n",
       "    <tr>\n",
       "      <th>0</th>\n",
       "      <td>envoi souscription psv mail mv eai traitement ...</td>\n",
       "      <td>0</td>\n",
       "      <td>0</td>\n",
       "      <td>0</td>\n",
       "      <td>1</td>\n",
       "      <td>0</td>\n",
       "      <td>0</td>\n",
       "      <td>0</td>\n",
       "      <td>1</td>\n",
       "      <td>0</td>\n",
       "      <td>0</td>\n",
       "      <td>0</td>\n",
       "      <td>0</td>\n",
       "      <td>0</td>\n",
       "      <td>1</td>\n",
       "    </tr>\n",
       "  </tbody>\n",
       "</table>\n",
       "</div>"
      ],
      "text/plain": [
       "category                                               text  \\\n",
       "0         envoi souscription psv mail mv eai traitement ...   \n",
       "\n",
       "category  Assurance_de_Biens  Assurance_de_Personnes  BAQ_Services_Bancaires  \\\n",
       "0                          0                       0                       0   \n",
       "\n",
       "category  Bilan_suivi_relationnel  Credit_conso  Credit_habitat  \\\n",
       "0                               1             0               0   \n",
       "\n",
       "category  Credit_vehicule  Entree_en_relation_Conquetes  \\\n",
       "0                       0                             1   \n",
       "\n",
       "category  Non_specifie_Credit_Assurance_Epargne_  Point_d_attention_risques  \\\n",
       "0                                              0                          0   \n",
       "\n",
       "category  Projet_exceptionnel_  Reclamation_Insatisfaction_client  \\\n",
       "0                            0                                  0   \n",
       "\n",
       "category  _pargne_disponible  _pargne_terme  \n",
       "0                          0              1  "
      ]
     },
     "execution_count": 14,
     "metadata": {},
     "output_type": "execute_result"
    }
   ],
   "source": [
    "# Chargement stopwords français\n",
    "stop_words = stopwords.words('french')\n",
    "    \n",
    "# Initialize stemmer, which will take words and convert words to their \"stem,\" e.g. Playing-> Play\n",
    "ps = PorterStemmer() \n",
    "\n",
    "# Enlever les charactères nons alphabétiques, espaces et convertir toutes les lettres en minuscules\n",
    "# References: https://www.analyticsvidhya.com/blog/2019/04/predicting-movie-genres-nlp-multi-label-classification/\n",
    "def clean_text(txt): \n",
    "    txt = txt.lower()   #lowercase\n",
    "    txt = re.sub(\"[^a-zA-Z]\",\" \",txt) #Remove everything except alphabetical characters \n",
    "    txt = word_tokenize(txt) #tokenize (split into list and remove whitespace)\n",
    "    \n",
    "    #initialize list to store clean text\n",
    "    clean_text=\"\"\n",
    "      \n",
    "    #iterate over each word\n",
    "    for w in txt:      \n",
    "        #remove stopwords\n",
    "        if w not in stop_words:\n",
    "            #stem=ps.stem(w) #stem \n",
    "            stem = w\n",
    "            clean_text += stem +\" \" \n",
    "    return clean_text\n",
    "\n",
    "\n",
    "text_new =[] #declare a list to hold new movies\n",
    "\n",
    "for cell in df_s['text']:    \n",
    "    txt = clean_text(cell)\n",
    "    text_new.append(txt)\n",
    "    \n",
    "#add new info column to the dataframe\n",
    "df_s['text'] = text_new \n",
    "df_s.head(1)\n"
   ]
  },
  {
   "cell_type": "code",
   "execution_count": 15,
   "metadata": {},
   "outputs": [],
   "source": [
    "import nltk\n",
    "from nltk.corpus import stopwords\n",
    "from nltk.stem.snowball import SnowballStemmer\n",
    "import re\n",
    "import sys\n",
    "import warnings\n",
    "\n",
    "data = df_s\n",
    "\n",
    "if not sys.warnoptions:\n",
    "    warnings.simplefilter(\"ignore\")\n",
    "def cleanHtml(sentence):\n",
    "    cleanr = re.compile('<.*?>')\n",
    "    cleantext = re.sub(cleanr, ' ', str(sentence))\n",
    "    return cleantext\n",
    "\n",
    "def cleanPunc(sentence): #function to clean the word of any punctuation or special characters\n",
    "    cleaned = re.sub(r'[?|!|\\'|\"|#]', r' ',sentence)\n",
    "    cleaned = re.sub(r'[.|,|)|(|\\|/]', r' ',cleaned)\n",
    "    cleaned = cleaned.strip()\n",
    "    cleaned = cleaned.replace(\"\\n\", \" \")\n",
    "    return cleaned\n",
    "\n",
    "def keepAlpha(sentence):\n",
    "    alpha_sent = \"\"\n",
    "    for word in sentence.split():\n",
    "        alpha_word = re.sub('[^a-z A-Z]+', ' ', word)\n",
    "        alpha_sent += alpha_word\n",
    "        alpha_sent += \" \"\n",
    "    alpha_sent = alpha_sent.strip()\n",
    "    return alpha_sent\n",
    "\n",
    "data['text'] = data['text'].str.lower()\n",
    "data['text'] = data['text'].apply(cleanHtml)\n",
    "data['text'] = data['text'].apply(cleanPunc)\n",
    "data['text'] = data['text'].apply(keepAlpha)"
   ]
  },
  {
   "cell_type": "code",
   "execution_count": 16,
   "metadata": {},
   "outputs": [],
   "source": [
    "stop_words = set(stopwords.words('english'))\n",
    "re_stop_words = re.compile(r\"\\b(\" + \"|\".join(stop_words) + \")\\\\W\", re.I)\n",
    "\n",
    "def removeStopWords(sentence):\n",
    "    global re_stop_words\n",
    "    return re_stop_words.sub(\" \", sentence)\n",
    "data['text'] = data['text'].apply(removeStopWords)"
   ]
  },
  {
   "cell_type": "code",
   "execution_count": 17,
   "metadata": {},
   "outputs": [],
   "source": [
    "stemmer = SnowballStemmer(\"french\")\n",
    "\n",
    "def stemming(sentence):\n",
    "    stemSentence = \"\"\n",
    "    for word in sentence.split():\n",
    "        stem = stemmer.stem(word)\n",
    "        stemSentence += stem\n",
    "        stemSentence += \" \"\n",
    "    stemSentence = stemSentence.strip()\n",
    "    return stemSentence\n",
    "data['text'] = data['text'].apply(stemming)"
   ]
  },
  {
   "cell_type": "code",
   "execution_count": 18,
   "metadata": {},
   "outputs": [
    {
     "data": {
      "text/plain": [
       "(1443, 15)"
      ]
     },
     "execution_count": 18,
     "metadata": {},
     "output_type": "execute_result"
    }
   ],
   "source": [
    "data.shape"
   ]
  },
  {
   "cell_type": "code",
   "execution_count": null,
   "metadata": {},
   "outputs": [],
   "source": []
  },
  {
   "cell_type": "markdown",
   "metadata": {},
   "source": [
    "# Modele"
   ]
  },
  {
   "cell_type": "code",
   "execution_count": 22,
   "metadata": {},
   "outputs": [],
   "source": []
  },
  {
   "cell_type": "code",
   "execution_count": 46,
   "metadata": {},
   "outputs": [
    {
     "data": {
      "text/plain": [
       "Pipeline(steps=[('countvectorizer', CountVectorizer()),\n",
       "                ('tfidftransformer', TfidfTransformer()),\n",
       "                ('multioutputclassifier',\n",
       "                 MultiOutputClassifier(estimator=LogisticRegression(solver='liblinear')))])"
      ]
     },
     "execution_count": 46,
     "metadata": {},
     "output_type": "execute_result"
    }
   ],
   "source": [
    "pipe = make_pipeline(\n",
    "    CountVectorizer(),\n",
    "    TfidfTransformer(),\n",
    "    # Pour gérer les cas multi-label\n",
    "    MultiOutputClassifier(\n",
    "    # Le solveur par defaut est lent dans le cas sparse\n",
    "       estimator=LogisticRegression(solver='liblinear')\n",
    "    )\n",
    ")\n",
    "\n",
    "pipe.fit(data[\"text\"], df_s[category_cols])"
   ]
  },
  {
   "cell_type": "code",
   "execution_count": 47,
   "metadata": {},
   "outputs": [
    {
     "data": {
      "text/plain": [
       "Pipeline(steps=[('countvectorizer', CountVectorizer()),\n",
       "                ('tfidftransformer', TfidfTransformer()),\n",
       "                ('multioutputclassifier',\n",
       "                 MultiOutputClassifier(estimator=LogisticRegression(solver='liblinear')))])"
      ]
     },
     "execution_count": 47,
     "metadata": {},
     "output_type": "execute_result"
    }
   ],
   "source": [
    "pipe_linear = make_pipeline(\n",
    "    CountVectorizer(),\n",
    "    TfidfTransformer(),\n",
    "    # Pour gérer les cas multi-label\n",
    "    MultiOutputClassifier(\n",
    "    # Le solveur par defaut est lent dans le cas sparse\n",
    "       estimator=LogisticRegression(solver='liblinear')\n",
    "    )\n",
    ")\n",
    "\n",
    "pipe_linear.fit(data[\"text\"], df_s[category_cols])"
   ]
  },
  {
   "cell_type": "code",
   "execution_count": 21,
   "metadata": {},
   "outputs": [
    {
     "data": {
      "text/plain": [
       "Pipeline(steps=[('countvectorizer', CountVectorizer()),\n",
       "                ('tfidftransformer', TfidfTransformer()),\n",
       "                ('multioutputclassifier',\n",
       "                 MultiOutputClassifier(estimator=KNeighborsClassifier(n_neighbors=3)))])"
      ]
     },
     "execution_count": 21,
     "metadata": {},
     "output_type": "execute_result"
    }
   ],
   "source": [
    "pipe_neighbors = make_pipeline(\n",
    "    CountVectorizer(),\n",
    "    TfidfTransformer(),\n",
    "    # Pour gérer les cas multi-label\n",
    "    MultiOutputClassifier(\n",
    "    # Le solveur par defaut est lent dans le cas sparse\n",
    "       estimator=KNeighborsClassifier(n_neighbors=3)\n",
    "    )\n",
    ")\n",
    "\n",
    "pipe_neighbors.fit(data[\"text\"], df_s[category_cols])"
   ]
  },
  {
   "cell_type": "code",
   "execution_count": 24,
   "metadata": {},
   "outputs": [
    {
     "data": {
      "text/plain": [
       "Pipeline(steps=[('countvectorizer', CountVectorizer()),\n",
       "                ('tfidftransformer', TfidfTransformer()),\n",
       "                ('multioutputclassifier',\n",
       "                 MultiOutputClassifier(estimator=MLPClassifier(max_iter=300,\n",
       "                                                               random_state=1)))])"
      ]
     },
     "execution_count": 24,
     "metadata": {},
     "output_type": "execute_result"
    }
   ],
   "source": [
    "pipe_MLPC = make_pipeline(\n",
    "    CountVectorizer(),\n",
    "    TfidfTransformer(),\n",
    "    # Pour gérer les cas multi-label\n",
    "    MultiOutputClassifier(\n",
    "    # Le solveur par defaut est lent dans le cas sparse\n",
    "       estimator=MLPClassifier(random_state=1, max_iter=300)\n",
    "    )\n",
    ")\n",
    "\n",
    "pipe_MLPC.fit(data['text'], df_s[category_cols])"
   ]
  },
  {
   "cell_type": "code",
   "execution_count": 23,
   "metadata": {},
   "outputs": [
    {
     "data": {
      "text/plain": [
       "Pipeline(steps=[('countvectorizer', CountVectorizer()),\n",
       "                ('tfidftransformer', TfidfTransformer()),\n",
       "                ('multioutputclassifier',\n",
       "                 MultiOutputClassifier(estimator=DecisionTreeClassifier(random_state=0)))])"
      ]
     },
     "execution_count": 23,
     "metadata": {},
     "output_type": "execute_result"
    }
   ],
   "source": [
    "pipe_decision_tree = make_pipeline(\n",
    "    CountVectorizer(),\n",
    "    TfidfTransformer(),\n",
    "    # Pour gérer les cas multi-label\n",
    "    MultiOutputClassifier(\n",
    "    # Le solveur par defaut est lent dans le cas sparse\n",
    "       estimator=DecisionTreeClassifier(random_state=0)\n",
    "    )\n",
    ")\n",
    "\n",
    "pipe_decision_tree.fit(data[\"text\"], df_s[category_cols])"
   ]
  },
  {
   "cell_type": "code",
   "execution_count": 20,
   "metadata": {},
   "outputs": [
    {
     "data": {
      "text/plain": [
       "Pipeline(steps=[('countvectorizer', CountVectorizer()),\n",
       "                ('tfidftransformer', TfidfTransformer()),\n",
       "                ('multioutputclassifier',\n",
       "                 MultiOutputClassifier(estimator=DecisionTreeClassifier(max_depth=121,\n",
       "                                                                        min_samples_split=50,\n",
       "                                                                        random_state=0)))])"
      ]
     },
     "execution_count": 20,
     "metadata": {},
     "output_type": "execute_result"
    }
   ],
   "source": [
    "pipe_decision_tree2 = make_pipeline(\n",
    "    CountVectorizer(),\n",
    "    TfidfTransformer(),\n",
    "    # Pour gérer les cas multi-label\n",
    "    MultiOutputClassifier(\n",
    "    # Le solveur par defaut est lent dans le cas sparse\n",
    "       estimator=DecisionTreeClassifier(max_depth=121, min_samples_split=50, random_state=0)\n",
    "    )\n",
    ")\n",
    "\n",
    "pipe_decision_tree2.fit(data[\"text\"], df_s[category_cols])\n"
   ]
  },
  {
   "cell_type": "markdown",
   "metadata": {},
   "source": [
    "## train test"
   ]
  },
  {
   "cell_type": "code",
   "execution_count": 20,
   "metadata": {},
   "outputs": [],
   "source": [
    "X_train, X_test, y_train, y_test = train_test_split(data['text'], df_s[category_cols], random_state = 0)"
   ]
  },
  {
   "cell_type": "code",
   "execution_count": 22,
   "metadata": {},
   "outputs": [],
   "source": [
    "vectorizer = CountVectorizer()\n",
    "X_train= vectorizer.fit_transform(X_train)\n",
    "\n",
    "\n",
    "Tfidf = TfidfTransformer()\n",
    "X_train = Tfidf.fit_transform(X_train)\n"
   ]
  },
  {
   "cell_type": "code",
   "execution_count": null,
   "metadata": {},
   "outputs": [],
   "source": []
  },
  {
   "cell_type": "code",
   "execution_count": 74,
   "metadata": {},
   "outputs": [
    {
     "data": {
      "text/plain": [
       "Pipeline(steps=[('countvectorizer', CountVectorizer()),\n",
       "                ('tfidftransformer', TfidfTransformer()),\n",
       "                ('multioutputclassifier',\n",
       "                 MultiOutputClassifier(estimator=LogisticRegression(solver='liblinear')))])"
      ]
     },
     "execution_count": 74,
     "metadata": {},
     "output_type": "execute_result"
    }
   ],
   "source": [
    "pipe.fit(X_train, y_train)"
   ]
  },
  {
   "cell_type": "code",
   "execution_count": 42,
   "metadata": {},
   "outputs": [
    {
     "data": {
      "text/plain": [
       "Pipeline(steps=[('countvectorizer', CountVectorizer()),\n",
       "                ('tfidftransformer', TfidfTransformer()),\n",
       "                ('multioutputclassifier',\n",
       "                 MultiOutputClassifier(estimator=LogisticRegression(solver='liblinear')))])"
      ]
     },
     "execution_count": 42,
     "metadata": {},
     "output_type": "execute_result"
    }
   ],
   "source": [
    "pipe_linear.fit(X_train, y_train)"
   ]
  },
  {
   "cell_type": "code",
   "execution_count": 116,
   "metadata": {},
   "outputs": [
    {
     "data": {
      "text/plain": [
       "Pipeline(steps=[('countvectorizer', CountVectorizer()),\n",
       "                ('tfidftransformer', TfidfTransformer()),\n",
       "                ('multioutputclassifier',\n",
       "                 MultiOutputClassifier(estimator=KNeighborsClassifier(n_neighbors=3)))])"
      ]
     },
     "execution_count": 116,
     "metadata": {},
     "output_type": "execute_result"
    }
   ],
   "source": [
    "pipe_neighbors.fit(X_train, y_train)"
   ]
  },
  {
   "cell_type": "code",
   "execution_count": 98,
   "metadata": {},
   "outputs": [
    {
     "data": {
      "text/plain": [
       "Pipeline(steps=[('countvectorizer', CountVectorizer()),\n",
       "                ('tfidftransformer', TfidfTransformer()),\n",
       "                ('multioutputclassifier',\n",
       "                 MultiOutputClassifier(estimator=MLPClassifier(max_iter=300,\n",
       "                                                               random_state=1)))])"
      ]
     },
     "execution_count": 98,
     "metadata": {},
     "output_type": "execute_result"
    }
   ],
   "source": [
    "pipe_MLPC.fit(X_train, y_train)"
   ]
  },
  {
   "cell_type": "code",
   "execution_count": 24,
   "metadata": {},
   "outputs": [
    {
     "data": {
      "text/plain": [
       "Pipeline(steps=[('countvectorizer', CountVectorizer()),\n",
       "                ('tfidftransformer', TfidfTransformer()),\n",
       "                ('multioutputclassifier',\n",
       "                 MultiOutputClassifier(estimator=DecisionTreeClassifier(random_state=0)))])"
      ]
     },
     "execution_count": 24,
     "metadata": {},
     "output_type": "execute_result"
    }
   ],
   "source": [
    "pipe_decision_tree.fit(X_train, y_train)"
   ]
  },
  {
   "cell_type": "code",
   "execution_count": 23,
   "metadata": {},
   "outputs": [
    {
     "data": {
      "text/plain": [
       "Pipeline(steps=[('countvectorizer', CountVectorizer()),\n",
       "                ('tfidftransformer', TfidfTransformer()),\n",
       "                ('multioutputclassifier',\n",
       "                 MultiOutputClassifier(estimator=DecisionTreeClassifier(max_depth=121,\n",
       "                                                                        min_samples_split=50,\n",
       "                                                                        random_state=0)))])"
      ]
     },
     "execution_count": 23,
     "metadata": {},
     "output_type": "execute_result"
    }
   ],
   "source": [
    "pipe_decision_tree2.fit(X_train, y_train)"
   ]
  },
  {
   "cell_type": "code",
   "execution_count": 112,
   "metadata": {},
   "outputs": [
    {
     "data": {
      "text/plain": [
       "category\n",
       "Credit_vehicule                            77\n",
       "Bilan_suivi_relationnel                   244\n",
       "_pargne_terme                             354\n",
       "Entree_en_relation_Conquetes              259\n",
       "Point_d_attention_risques                 265\n",
       "Reclamation_Insatisfaction_client         104\n",
       "Credit_conso                               72\n",
       "_pargne_disponible                        168\n",
       "Non_specifie_Credit_Assurance_Epargne_    254\n",
       "Assurance_de_Biens                        202\n",
       "Assurance_de_Personnes                    193\n",
       "BAQ_Services_Bancaires                    164\n",
       "Credit_habitat                            205\n",
       "Projet_exceptionnel_                       58\n",
       "dtype: int64"
      ]
     },
     "execution_count": 112,
     "metadata": {},
     "output_type": "execute_result"
    }
   ],
   "source": [
    "y_train.sum()"
   ]
  },
  {
   "cell_type": "code",
   "execution_count": 113,
   "metadata": {},
   "outputs": [
    {
     "data": {
      "text/plain": [
       "category\n",
       "Credit_vehicule                            29\n",
       "Bilan_suivi_relationnel                    82\n",
       "_pargne_terme                             118\n",
       "Entree_en_relation_Conquetes               84\n",
       "Point_d_attention_risques                  84\n",
       "Reclamation_Insatisfaction_client          35\n",
       "Credit_conso                               32\n",
       "_pargne_disponible                         56\n",
       "Non_specifie_Credit_Assurance_Epargne_     70\n",
       "Assurance_de_Biens                         63\n",
       "Assurance_de_Personnes                     64\n",
       "BAQ_Services_Bancaires                     51\n",
       "Credit_habitat                             67\n",
       "Projet_exceptionnel_                       26\n",
       "dtype: int64"
      ]
     },
     "execution_count": 113,
     "metadata": {},
     "output_type": "execute_result"
    }
   ],
   "source": [
    "y_test.sum()"
   ]
  },
  {
   "cell_type": "markdown",
   "metadata": {},
   "source": [
    "# Recherche hyper parametres"
   ]
  },
  {
   "cell_type": "code",
   "execution_count": 32,
   "metadata": {},
   "outputs": [],
   "source": [
    "from sklearn import svm, datasets\n",
    "from sklearn.model_selection import GridSearchCV"
   ]
  },
  {
   "cell_type": "code",
   "execution_count": 37,
   "metadata": {},
   "outputs": [
    {
     "data": {
      "text/plain": [
       "DecisionTreeClassifier(max_depth=121, min_samples_split=50)"
      ]
     },
     "execution_count": 37,
     "metadata": {},
     "output_type": "execute_result"
    }
   ],
   "source": [
    "from sklearn.tree import DecisionTreeClassifier, export_graphviz\n",
    "from sklearn.model_selection import GridSearchCV\n",
    "\n",
    "parameters = {'criterion':['gini','entropy'],'min_samples_split' : range(10,500,20),'max_depth': range(1,150,20)}\n",
    "clf_tree = DecisionTreeClassifier()\n",
    "clf = GridSearchCV(clf_tree,parameters)\n",
    "\n",
    "clf.fit(X_train,y_train)\n",
    "\n",
    "clf.best_estimator_"
   ]
  },
  {
   "cell_type": "markdown",
   "metadata": {},
   "source": [
    "# Prediction "
   ]
  },
  {
   "cell_type": "code",
   "execution_count": 66,
   "metadata": {},
   "outputs": [],
   "source": [
    "test = np.array([\"Madame est venu ce jour me redonner son ancienne carte bancaire. Elle souhaite également inverstir dans un appartement\"])\n"
   ]
  },
  {
   "cell_type": "markdown",
   "metadata": {},
   "source": [
    "### Pipe Linear"
   ]
  },
  {
   "cell_type": "code",
   "execution_count": 46,
   "metadata": {},
   "outputs": [],
   "source": [
    "predict_linear = pipe_linear.predict(X_test)"
   ]
  },
  {
   "cell_type": "code",
   "execution_count": 47,
   "metadata": {},
   "outputs": [
    {
     "name": "stdout",
     "output_type": "stream",
     "text": [
      "                                        precision    recall  f1-score   support\n",
      "\n",
      "                       Credit_vehicule       0.00      0.00      0.00        29\n",
      "               Bilan_suivi_relationnel       0.83      0.06      0.11        82\n",
      "                         _pargne_terme       0.93      0.47      0.62       118\n",
      "                        Credit_travaux       0.00      0.00      0.00        14\n",
      "          Entree_en_relation_Conquetes       0.91      0.24      0.38        84\n",
      "             Point_d_attention_risques       1.00      0.06      0.11        84\n",
      "     Reclamation_Insatisfaction_client       1.00      0.03      0.06        35\n",
      "                          Credit_conso       0.00      0.00      0.00        32\n",
      "                     _venements_de_vie       0.00      0.00      0.00        28\n",
      "                    _pargne_disponible       1.00      0.23      0.38        56\n",
      "Non_specifie_Credit_Assurance_Epargne_       0.80      0.06      0.11        70\n",
      "                    Assurance_de_Biens       0.95      0.30      0.46        63\n",
      "                Assurance_de_Personnes       1.00      0.05      0.09        64\n",
      "                BAQ_Services_Bancaires       1.00      0.06      0.11        51\n",
      "                        Credit_habitat       1.00      0.21      0.35        67\n",
      "                       Credit_agri_pro       0.00      0.00      0.00        10\n",
      "                  Projet_exceptionnel_       0.00      0.00      0.00        26\n",
      "\n",
      "                             micro avg       0.94      0.16      0.27       913\n",
      "                             macro avg       0.61      0.10      0.16       913\n",
      "                          weighted avg       0.80      0.16      0.24       913\n",
      "                           samples avg       0.33      0.16      0.21       913\n",
      "\n"
     ]
    }
   ],
   "source": [
    "from sklearn import metrics\n",
    "print(metrics.classification_report(y_test, predict_linear, target_names=category_cols))"
   ]
  },
  {
   "cell_type": "code",
   "execution_count": 48,
   "metadata": {},
   "outputs": [
    {
     "data": {
      "text/plain": [
       "0.11019283746556474"
      ]
     },
     "execution_count": 48,
     "metadata": {},
     "output_type": "execute_result"
    }
   ],
   "source": [
    "score_linear = pipe_linear.score(X_test, y_test)\n",
    "score_linear"
   ]
  },
  {
   "cell_type": "markdown",
   "metadata": {},
   "source": [
    "### Pipe Neighbors"
   ]
  },
  {
   "cell_type": "code",
   "execution_count": 117,
   "metadata": {},
   "outputs": [],
   "source": [
    "predict_neighbors = pipe_neighbors.predict(X_test)"
   ]
  },
  {
   "cell_type": "code",
   "execution_count": 118,
   "metadata": {},
   "outputs": [
    {
     "name": "stdout",
     "output_type": "stream",
     "text": [
      "                                        precision    recall  f1-score   support\n",
      "\n",
      "                       Credit_vehicule       0.67      0.21      0.32        29\n",
      "               Bilan_suivi_relationnel       0.41      0.21      0.28        82\n",
      "                         _pargne_terme       0.67      0.49      0.57       118\n",
      "          Entree_en_relation_Conquetes       0.57      0.37      0.45        84\n",
      "             Point_d_attention_risques       0.44      0.25      0.32        84\n",
      "     Reclamation_Insatisfaction_client       0.22      0.06      0.09        35\n",
      "                          Credit_conso       0.44      0.12      0.20        32\n",
      "                    _pargne_disponible       0.44      0.29      0.35        56\n",
      "Non_specifie_Credit_Assurance_Epargne_       0.39      0.40      0.39        70\n",
      "                    Assurance_de_Biens       0.61      0.40      0.48        63\n",
      "                Assurance_de_Personnes       0.60      0.19      0.29        64\n",
      "                BAQ_Services_Bancaires       0.43      0.20      0.27        51\n",
      "                        Credit_habitat       0.53      0.27      0.36        67\n",
      "                  Projet_exceptionnel_       0.67      0.15      0.25        26\n",
      "\n",
      "                             micro avg       0.52      0.29      0.37       861\n",
      "                             macro avg       0.51      0.26      0.33       861\n",
      "                          weighted avg       0.52      0.29      0.36       861\n",
      "                           samples avg       0.42      0.30      0.32       861\n",
      "\n"
     ]
    }
   ],
   "source": [
    "from sklearn import metrics\n",
    "print(metrics.classification_report(y_test, predict_neighbors, target_names=category_cols))"
   ]
  },
  {
   "cell_type": "code",
   "execution_count": 45,
   "metadata": {},
   "outputs": [
    {
     "data": {
      "text/plain": [
       "0.11294765840220386"
      ]
     },
     "execution_count": 45,
     "metadata": {},
     "output_type": "execute_result"
    }
   ],
   "source": [
    "score_neighbors = pipe_neighbors.score(X_test, y_test)\n",
    "score_neighbors"
   ]
  },
  {
   "cell_type": "code",
   "execution_count": 87,
   "metadata": {},
   "outputs": [
    {
     "data": {
      "text/plain": [
       "array([[0, 0, 0, ..., 0, 0, 0],\n",
       "       [0, 0, 0, ..., 0, 0, 0],\n",
       "       [0, 0, 0, ..., 1, 0, 0],\n",
       "       ...,\n",
       "       [0, 1, 1, ..., 0, 0, 0],\n",
       "       [0, 0, 0, ..., 0, 0, 0],\n",
       "       [0, 0, 1, ..., 0, 0, 0]])"
      ]
     },
     "execution_count": 87,
     "metadata": {},
     "output_type": "execute_result"
    }
   ],
   "source": [
    "predict_neighbors"
   ]
  },
  {
   "cell_type": "markdown",
   "metadata": {},
   "source": [
    "### Pipe MLPC"
   ]
  },
  {
   "cell_type": "code",
   "execution_count": 29,
   "metadata": {},
   "outputs": [],
   "source": [
    "predict_mlpc = pipe_MLPC.predict(X_test)"
   ]
  },
  {
   "cell_type": "code",
   "execution_count": 30,
   "metadata": {},
   "outputs": [
    {
     "name": "stdout",
     "output_type": "stream",
     "text": [
      "                                        precision    recall  f1-score   support\n",
      "\n",
      "                       Credit_vehicule       0.71      0.34      0.47        29\n",
      "               Bilan_suivi_relationnel       0.37      0.27      0.31        82\n",
      "                         _pargne_terme       0.77      0.58      0.66       118\n",
      "                        Credit_travaux       0.00      0.00      0.00        14\n",
      "          Entree_en_relation_Conquetes       0.53      0.49      0.51        84\n",
      "             Point_d_attention_risques       0.41      0.32      0.36        84\n",
      "     Reclamation_Insatisfaction_client       0.25      0.06      0.09        35\n",
      "                          Credit_conso       0.88      0.22      0.35        32\n",
      "                     _venements_de_vie       0.18      0.07      0.10        28\n",
      "                    _pargne_disponible       0.56      0.41      0.47        56\n",
      "Non_specifie_Credit_Assurance_Epargne_       0.42      0.36      0.38        70\n",
      "                    Assurance_de_Biens       0.71      0.48      0.57        63\n",
      "                Assurance_de_Personnes       0.75      0.38      0.50        64\n",
      "                BAQ_Services_Bancaires       0.67      0.31      0.43        51\n",
      "                        Credit_habitat       0.62      0.43      0.51        67\n",
      "                       Credit_agri_pro       0.00      0.00      0.00        10\n",
      "                  Projet_exceptionnel_       0.62      0.19      0.29        26\n",
      "\n",
      "                             micro avg       0.56      0.36      0.44       913\n",
      "                             macro avg       0.50      0.29      0.35       913\n",
      "                          weighted avg       0.56      0.36      0.43       913\n",
      "                           samples avg       0.46      0.38      0.37       913\n",
      "\n"
     ]
    }
   ],
   "source": [
    "from sklearn import metrics\n",
    "print(metrics.classification_report(y_test, predict_mlpc, target_names=category_cols))"
   ]
  },
  {
   "cell_type": "code",
   "execution_count": 31,
   "metadata": {},
   "outputs": [
    {
     "data": {
      "text/plain": [
       "0.09641873278236915"
      ]
     },
     "execution_count": 31,
     "metadata": {},
     "output_type": "execute_result"
    }
   ],
   "source": [
    "score_mlpc = pipe_MLPC.score(X_test, y_test)\n",
    "score_mlpc"
   ]
  },
  {
   "cell_type": "code",
   "execution_count": 25,
   "metadata": {},
   "outputs": [],
   "source": [
    "#predict_mlpc"
   ]
  },
  {
   "cell_type": "code",
   "execution_count": 88,
   "metadata": {},
   "outputs": [],
   "source": [
    "#predict_mlpc_test = pipe_MLPC.predict(test)"
   ]
  },
  {
   "cell_type": "code",
   "execution_count": 22,
   "metadata": {},
   "outputs": [],
   "source": [
    "#X_test"
   ]
  },
  {
   "cell_type": "code",
   "execution_count": 23,
   "metadata": {},
   "outputs": [],
   "source": [
    "#y_test.head()"
   ]
  },
  {
   "cell_type": "code",
   "execution_count": 24,
   "metadata": {},
   "outputs": [],
   "source": [
    "#predict_neighbors[3]"
   ]
  },
  {
   "cell_type": "markdown",
   "metadata": {},
   "source": [
    "### Pipe decision tree"
   ]
  },
  {
   "cell_type": "code",
   "execution_count": 25,
   "metadata": {},
   "outputs": [],
   "source": [
    "predict_decision_tree = pipe_decision_tree.predict(X_test)"
   ]
  },
  {
   "cell_type": "code",
   "execution_count": 26,
   "metadata": {},
   "outputs": [
    {
     "name": "stdout",
     "output_type": "stream",
     "text": [
      "                                        precision    recall  f1-score   support\n",
      "\n",
      "                       Credit_vehicule       0.62      0.52      0.57        25\n",
      "               Bilan_suivi_relationnel       0.53      0.57      0.55        83\n",
      "                         _pargne_terme       0.85      0.84      0.84       136\n",
      "          Entree_en_relation_Conquetes       0.72      0.74      0.73        99\n",
      "             Point_d_attention_risques       0.36      0.42      0.39        65\n",
      "     Reclamation_Insatisfaction_client       0.57      0.50      0.53        26\n",
      "                          Credit_conso       0.53      0.38      0.44        24\n",
      "                    _pargne_disponible       0.89      0.83      0.86        47\n",
      "Non_specifie_Credit_Assurance_Epargne_       0.35      0.41      0.37        64\n",
      "                    Assurance_de_Biens       0.55      0.59      0.57        56\n",
      "                Assurance_de_Personnes       0.72      0.71      0.72        66\n",
      "                BAQ_Services_Bancaires       0.73      0.53      0.62        60\n",
      "                        Credit_habitat       0.77      0.60      0.68        83\n",
      "                  Projet_exceptionnel_       0.44      0.39      0.42        41\n",
      "\n",
      "                             micro avg       0.64      0.62      0.63       875\n",
      "                             macro avg       0.62      0.57      0.59       875\n",
      "                          weighted avg       0.65      0.62      0.63       875\n",
      "                           samples avg       0.57      0.58      0.54       875\n",
      "\n"
     ]
    }
   ],
   "source": [
    "from sklearn import metrics\n",
    "print(metrics.classification_report(y_test, predict_decision_tree, target_names=category_cols))"
   ]
  },
  {
   "cell_type": "code",
   "execution_count": 27,
   "metadata": {},
   "outputs": [
    {
     "data": {
      "text/plain": [
       "0.15512465373961218"
      ]
     },
     "execution_count": 27,
     "metadata": {},
     "output_type": "execute_result"
    }
   ],
   "source": [
    "score_decision_tree = pipe_decision_tree.score(X_test, y_test)\n",
    "score_decision_tree"
   ]
  },
  {
   "cell_type": "code",
   "execution_count": null,
   "metadata": {},
   "outputs": [],
   "source": []
  },
  {
   "cell_type": "markdown",
   "metadata": {},
   "source": [
    "## visualisation confusion matrix"
   ]
  },
  {
   "cell_type": "code",
   "execution_count": 28,
   "metadata": {},
   "outputs": [],
   "source": [
    "from sklearn.metrics import multilabel_confusion_matrix\n",
    "\n",
    "confusion = multilabel_confusion_matrix(y_test, predict_decision_tree)\n",
    "confusion = np.asarray(confusion)"
   ]
  },
  {
   "cell_type": "code",
   "execution_count": 29,
   "metadata": {},
   "outputs": [],
   "source": [
    "def print_confusion_matrix(confusion_matrix, axes, class_label, class_names, fontsize=14):\n",
    "\n",
    "    df_cm = pd.DataFrame(\n",
    "        confusion_matrix, index=class_names, columns=class_names,\n",
    "    )\n",
    "\n",
    "    try:\n",
    "        heatmap = sns.heatmap(df_cm, annot=True, fmt=\"d\", cbar=False, ax=axes)\n",
    "    except ValueError:\n",
    "        raise ValueError(\"Confusion matrix values must be integers.\")\n",
    "    heatmap.yaxis.set_ticklabels(heatmap.yaxis.get_ticklabels(), rotation=0, ha='right', fontsize=fontsize)\n",
    "    heatmap.xaxis.set_ticklabels(heatmap.xaxis.get_ticklabels(), rotation=45, ha='right', fontsize=fontsize)\n",
    "    axes.set_ylabel('True label')\n",
    "    axes.set_xlabel('Predicted label')\n",
    "    axes.set_title(\"Confusion Matrix for the class - \" + class_label)"
   ]
  },
  {
   "cell_type": "code",
   "execution_count": 30,
   "metadata": {},
   "outputs": [
    {
     "data": {
      "image/png": "[encoded data removed]",
      "text/plain": [
       "<Figure size 1440x1440 with 12 Axes>"
      ]
     },
     "metadata": {},
     "output_type": "display_data"
    }
   ],
   "source": [
    "fig, ax = plt.subplots(4, 3, figsize=(20, 20))\n",
    "    \n",
    "for axes, cfs_matrix, label in zip(ax.flatten(), confusion, df_s[category_cols]):\n",
    "        print_confusion_matrix(cfs_matrix, axes, label, [\"Y\", \"N\"])\n",
    "    \n",
    "fig.tight_layout()\n",
    "plt.show()"
   ]
  },
  {
   "cell_type": "markdown",
   "metadata": {},
   "source": [
    "## hyper paramere decision tree"
   ]
  },
  {
   "cell_type": "code",
   "execution_count": 26,
   "metadata": {},
   "outputs": [],
   "source": [
    "predict_decision_tree2 = pipe_decision_tree2.predict(X_test)"
   ]
  },
  {
   "cell_type": "code",
   "execution_count": 27,
   "metadata": {},
   "outputs": [
    {
     "name": "stdout",
     "output_type": "stream",
     "text": [
      "                                        precision    recall  f1-score   support\n",
      "\n",
      "                       Credit_vehicule       0.55      0.38      0.45        29\n",
      "               Bilan_suivi_relationnel       0.54      0.41      0.47        82\n",
      "                         _pargne_terme       0.77      0.78      0.78       118\n",
      "          Entree_en_relation_Conquetes       0.66      0.77      0.71        84\n",
      "             Point_d_attention_risques       0.51      0.43      0.47        84\n",
      "     Reclamation_Insatisfaction_client       0.41      0.63      0.49        35\n",
      "                          Credit_conso       0.68      0.53      0.60        32\n",
      "                    _pargne_disponible       0.85      0.82      0.84        56\n",
      "Non_specifie_Credit_Assurance_Epargne_       0.39      0.46      0.42        70\n",
      "                    Assurance_de_Biens       0.74      0.67      0.70        63\n",
      "                Assurance_de_Personnes       0.76      0.78      0.77        64\n",
      "                BAQ_Services_Bancaires       0.58      0.61      0.60        51\n",
      "                        Credit_habitat       0.54      0.54      0.54        67\n",
      "                  Projet_exceptionnel_       0.62      0.62      0.62        26\n",
      "\n",
      "                             micro avg       0.62      0.62      0.62       861\n",
      "                             macro avg       0.61      0.60      0.60       861\n",
      "                          weighted avg       0.62      0.62      0.62       861\n",
      "                           samples avg       0.54      0.56      0.52       861\n",
      "\n"
     ]
    }
   ],
   "source": [
    "from sklearn import metrics\n",
    "print(metrics.classification_report(y_test, predict_decision_tree2, target_names=category_cols))"
   ]
  },
  {
   "cell_type": "code",
   "execution_count": 28,
   "metadata": {},
   "outputs": [
    {
     "data": {
      "text/plain": [
       "0.14049586776859505"
      ]
     },
     "execution_count": 28,
     "metadata": {},
     "output_type": "execute_result"
    }
   ],
   "source": [
    "score_decision_tree2 = pipe_decision_tree.score(X_test, y_test)\n",
    "score_decision_tree2"
   ]
  },
  {
   "cell_type": "code",
   "execution_count": 62,
   "metadata": {},
   "outputs": [
    {
     "data": {
      "text/plain": [
       "array([[0, 0, 0, ..., 0, 0, 0],\n",
       "       [0, 1, 0, ..., 0, 0, 0],\n",
       "       [0, 0, 0, ..., 0, 1, 0],\n",
       "       ...,\n",
       "       [0, 1, 1, ..., 0, 0, 0],\n",
       "       [0, 0, 0, ..., 0, 0, 0],\n",
       "       [0, 0, 1, ..., 0, 0, 0]])"
      ]
     },
     "execution_count": 62,
     "metadata": {},
     "output_type": "execute_result"
    }
   ],
   "source": [
    "predict_decision_tree2"
   ]
  },
  {
   "cell_type": "code",
   "execution_count": null,
   "metadata": {},
   "outputs": [],
   "source": []
  },
  {
   "cell_type": "markdown",
   "metadata": {},
   "source": [
    "# Sauvegarde du model"
   ]
  },
  {
   "cell_type": "code",
   "execution_count": 33,
   "metadata": {},
   "outputs": [
    {
     "name": "stdout",
     "output_type": "stream",
     "text": [
      "Model dumped!\n"
     ]
    }
   ],
   "source": [
    "joblib.dump(pipe_decision_tree, 'model_decision_tree.pkl')\n",
    "print(\"Model dumped!\")"
   ]
  },
  {
   "cell_type": "code",
   "execution_count": 34,
   "metadata": {},
   "outputs": [],
   "source": [
    "model_decision_tree = joblib.load('model_decision_tree.pkl')"
   ]
  },
  {
   "cell_type": "code",
   "execution_count": 35,
   "metadata": {},
   "outputs": [
    {
     "name": "stdout",
     "output_type": "stream",
     "text": [
      "Pipeline(steps=[('countvectorizer', CountVectorizer()),\n",
      "                ('tfidftransformer', TfidfTransformer()),\n",
      "                ('multioutputclassifier',\n",
      "                 MultiOutputClassifier(estimator=DecisionTreeClassifier(random_state=0)))])\n"
     ]
    }
   ],
   "source": [
    "print(model_decision_tree)"
   ]
  },
  {
   "cell_type": "markdown",
   "metadata": {},
   "source": [
    "# Sauvegarde du df "
   ]
  },
  {
   "cell_type": "code",
   "execution_count": 37,
   "metadata": {},
   "outputs": [],
   "source": [
    "df.to_csv(r'C:/Users/ET03349/Desktop/Sémantique/Lot_voix_ca/lot_7.csv',index=False)"
   ]
  },
  {
   "cell_type": "code",
   "execution_count": null,
   "metadata": {},
   "outputs": [],
   "source": []
  }
 ],
 "metadata": {
  "kernelspec": {
   "display_name": "Python 3",
   "language": "python",
   "name": "python3"
  },
  "language_info": {
   "codemirror_mode": {
    "name": "ipython",
    "version": 3
   },
   "file_extension": ".py",
   "mimetype": "text/x-python",
   "name": "python",
   "nbconvert_exporter": "python",
   "pygments_lexer": "ipython3",
   "version": "3.8.3"
  }
 },
 "nbformat": 4,
 "nbformat_minor": 4
}
